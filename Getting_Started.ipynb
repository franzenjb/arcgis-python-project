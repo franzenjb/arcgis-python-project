{
 "cells": [
  {
   "cell_type": "markdown",
   "id": "intro",
   "metadata": {},
   "source": [
    "# Getting Started with ArcGIS Maps\n",
    "\n",
    "This notebook will create your first interactive map!\n",
    "\n",
    "**Instructions:**\n",
    "1. Click on the first code cell below\n",
    "2. Press **Shift + Enter** to run it\n",
    "3. Wait a few seconds\n",
    "4. You'll see an interactive map appear!"
   ]
  },
  {
   "cell_type": "code",
   "execution_count": 1,
   "id": "cell1",
   "metadata": {
    "tags": []
   },
   "outputs": [
    {
     "name": "stderr",
     "output_type": "stream",
     "text": [
      "/Users/jefffranzen/Library/Python/3.9/lib/python/site-packages/urllib3/__init__.py:35: NotOpenSSLWarning: urllib3 v2 only supports OpenSSL 1.1.1+, currently the 'ssl' module is compiled with 'LibreSSL 2.8.3'. See: https://github.com/urllib3/urllib3/issues/3020\n",
      "  warnings.warn(\n",
      "/Users/jefffranzen/Library/Python/3.9/lib/python/site-packages/dask/dataframe/__init__.py:42: FutureWarning: \n",
      "Dask dataframe query planning is disabled because dask-expr is not installed.\n",
      "\n",
      "You can install it with `pip install dask[dataframe]` or `conda install dask`.\n",
      "This will raise in a future version.\n",
      "\n",
      "  warnings.warn(msg, FutureWarning)\n"
     ]
    },
    {
     "name": "stdout",
     "output_type": "stream",
     "text": [
      "✓ Connected to ArcGIS Online!\n"
     ]
    }
   ],
   "source": [
    "# Import ArcGIS\n",
    "from arcgis.gis import GIS\n",
    "\n",
    "# Connect to ArcGIS Online\n",
    "gis = GIS()\n",
    "print(\"✓ Connected to ArcGIS Online!\")"
   ]
  },
  {
   "cell_type": "code",
   "execution_count": 5,
   "id": "cell2",
   "metadata": {
    "tags": []
   },
   "outputs": [
    {
     "data": {
      "application/vnd.jupyter.widget-view+json": {
       "model_id": "1acca9f511eb48c2a1a3c0a939c6f368",
       "version_major": 2,
       "version_minor": 0
      },
      "text/plain": [
       "MapView(layout=Layout(height='400px', width='100%'))"
      ]
     },
     "metadata": {},
     "output_type": "display_data"
    },
    {
     "data": {
      "text/html": [
       "<div class=\"map-static-img-preview-283c7bdb-7480-4a5f-8e01-67a7d8eb60c5\"><img src=\"\"></img></div>"
      ],
      "text/plain": [
       "<IPython.core.display.HTML object>"
      ]
     },
     "metadata": {},
     "output_type": "display_data"
    },
    {
     "data": {
      "text/html": [
       "<div class=\"map-html-embed-preview-283c7bdb-7480-4a5f-8e01-67a7d8eb60c5\"></div>"
      ],
      "text/plain": [
       "<IPython.core.display.HTML object>"
      ]
     },
     "metadata": {},
     "output_type": "display_data"
    }
   ],
   "source": [
    "# Create an interactive map of San Francisco\n",
    "map1 = gis.map(\"San Francisco, CA\", zoomlevel=12)\n",
    "map1"
   ]
  },
  {
   "cell_type": "code",
   "execution_count": 3,
   "id": "cell3",
   "metadata": {
    "tags": []
   },
   "outputs": [
    {
     "data": {
      "application/vnd.jupyter.widget-view+json": {
       "model_id": "1e04d279ad704df39638be4ef43d163b",
       "version_major": 2,
       "version_minor": 0
      },
      "text/plain": [
       "MapView(layout=Layout(height='400px', width='100%'))"
      ]
     },
     "metadata": {},
     "output_type": "display_data"
    },
    {
     "data": {
      "text/html": [
       "<div class=\"map-static-img-preview-6f61a34b-fc4c-408f-84c4-9cba5e873ac5\"><img src=\"\"></img></div>"
      ],
      "text/plain": [
       "<IPython.core.display.HTML object>"
      ]
     },
     "metadata": {},
     "output_type": "display_data"
    },
    {
     "data": {
      "text/html": [
       "<div class=\"map-html-embed-preview-6f61a34b-fc4c-408f-84c4-9cba5e873ac5\"></div>"
      ],
      "text/plain": [
       "<IPython.core.display.HTML object>"
      ]
     },
     "metadata": {},
     "output_type": "display_data"
    }
   ],
   "source": [
    "# Try a different location - New York City\n",
    "map2 = gis.map(\"New York, NY\", zoomlevel=11)\n",
    "map2"
   ]
  },
  {
   "cell_type": "code",
   "execution_count": 4,
   "id": "cell4",
   "metadata": {
    "tags": []
   },
   "outputs": [
    {
     "name": "stdout",
     "output_type": "stream",
     "text": [
      "Found: Times Square\n",
      "Coordinates: (40.758425, -73.984701)\n"
     ]
    },
    {
     "data": {
      "application/vnd.jupyter.widget-view+json": {
       "model_id": "4d641367712445cb9d429ff448defe75",
       "version_major": 2,
       "version_minor": 0
      },
      "text/plain": [
       "MapView(layout=Layout(height='400px', width='100%'))"
      ]
     },
     "metadata": {},
     "output_type": "display_data"
    },
    {
     "data": {
      "text/html": [
       "<div class=\"map-static-img-preview-02ebba4c-e17e-4393-8a93-d150f40615cb\"><img src=\"\"></img></div>"
      ],
      "text/plain": [
       "<IPython.core.display.HTML object>"
      ]
     },
     "metadata": {},
     "output_type": "display_data"
    },
    {
     "data": {
      "text/html": [
       "<div class=\"map-html-embed-preview-02ebba4c-e17e-4393-8a93-d150f40615cb\"></div>"
      ],
      "text/plain": [
       "<IPython.core.display.HTML object>"
      ]
     },
     "metadata": {},
     "output_type": "display_data"
    }
   ],
   "source": [
    "# Geocode an address\n",
    "from arcgis.geocoding import geocode\n",
    "\n",
    "result = geocode(\"Times Square, New York\")\n",
    "print(f\"Found: {result[0]['address']}\")\n",
    "print(f\"Coordinates: ({result[0]['location']['y']:.6f}, {result[0]['location']['x']:.6f})\")\n",
    "\n",
    "# Show it on a map\n",
    "map3 = gis.map()\n",
    "map3.center = [result[0]['location']['y'], result[0]['location']['x']]\n",
    "map3.zoom = 15\n",
    "map3"
   ]
  },
  {
   "cell_type": "code",
   "execution_count": 7,
   "id": "7969ee3c-adb3-4858-bd8a-53b0c3b0c509",
   "metadata": {},
   "outputs": [
    {
     "name": "stdout",
     "output_type": "stream",
     "text": [
      "✓ Map opened in browser: /Users/jefffranzen/arcgis_project/san_francisco_map.html\n"
     ]
    }
   ],
   "source": [
    "from arcgis.gis import GIS\n",
    "gis = GIS()\n",
    "\n",
    "# Create a map\n",
    "map1 = gis.map(\"San Francisco, CA\", zoomlevel=12)\n",
    "\n",
    "# Save it as HTML and open in browser\n",
    "import webbrowser\n",
    "import tempfile\n",
    "import os\n",
    "\n",
    "# Export to HTML\n",
    "html_file = os.path.expanduser(\"~/arcgis_project/san_francisco_map.html\")\n",
    "map1.export_to_html(html_file, title=\"San Francisco Map\")\n",
    "\n",
    "# Open in browser\n",
    "webbrowser.open('file://' + html_file)\n",
    "print(f\"✓ Map opened in browser: {html_file}\")"
   ]
  },
  {
   "cell_type": "code",
   "execution_count": null,
   "id": "0daaade4-bdcb-491e-9d03-972b5c3d56b9",
   "metadata": {},
   "outputs": [],
   "source": []
  }
 ],
 "metadata": {
  "kernelspec": {
   "display_name": "Python 3",
   "language": "python",
   "name": "python3"
  },
  "language_info": {
   "codemirror_mode": {
    "name": "ipython",
    "version": 3
   },
   "file_extension": ".py",
   "mimetype": "text/x-python",
   "name": "python",
   "nbconvert_exporter": "python",
   "pygments_lexer": "ipython3",
   "version": "3.9.6"
  }
 },
 "nbformat": 4,
 "nbformat_minor": 5
}
